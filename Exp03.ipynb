{
 "cells": [
  {
   "cell_type": "code",
   "execution_count": 1,
   "id": "82e4fa03",
   "metadata": {},
   "outputs": [],
   "source": [
    "# Experiment No.  3\n",
    "# Write a program to demonstrate the working of the decision tree based on ID3 algorithm. Use an appropriate data set for building the decision tree and apply this knowledge to classify a new sample"
   ]
  },
  {
   "cell_type": "code",
   "execution_count": 2,
   "id": "dd70c89b",
   "metadata": {},
   "outputs": [],
   "source": [
    "from IPython.core.interactiveshell import InteractiveShell\n",
    "InteractiveShell.ast_node_interactivity = \"all\""
   ]
  },
  {
   "cell_type": "code",
   "execution_count": 3,
   "id": "5fd80896",
   "metadata": {},
   "outputs": [],
   "source": [
    "from pandas import read_csv"
   ]
  },
  {
   "cell_type": "code",
   "execution_count": 4,
   "id": "c5a7aee1",
   "metadata": {},
   "outputs": [],
   "source": [
    "import pandas as pd\n",
    "import numpy as np\n",
    "df_tennis = pd.read_csv('Rounak_Exp3.csv')"
   ]
  },
  {
   "cell_type": "code",
   "execution_count": 5,
   "id": "59f97504",
   "metadata": {},
   "outputs": [
    {
     "data": {
      "text/html": [
       "<div>\n",
       "<style scoped>\n",
       "    .dataframe tbody tr th:only-of-type {\n",
       "        vertical-align: middle;\n",
       "    }\n",
       "\n",
       "    .dataframe tbody tr th {\n",
       "        vertical-align: top;\n",
       "    }\n",
       "\n",
       "    .dataframe thead th {\n",
       "        text-align: right;\n",
       "    }\n",
       "</style>\n",
       "<table border=\"1\" class=\"dataframe\">\n",
       "  <thead>\n",
       "    <tr style=\"text-align: right;\">\n",
       "      <th></th>\n",
       "      <th>outlook</th>\n",
       "      <th>temp</th>\n",
       "      <th>humidity</th>\n",
       "      <th>windy</th>\n",
       "      <th>PlayTennis</th>\n",
       "    </tr>\n",
       "  </thead>\n",
       "  <tbody>\n",
       "    <tr>\n",
       "      <th>0</th>\n",
       "      <td>sunny</td>\n",
       "      <td>hot</td>\n",
       "      <td>high</td>\n",
       "      <td>False</td>\n",
       "      <td>no</td>\n",
       "    </tr>\n",
       "    <tr>\n",
       "      <th>1</th>\n",
       "      <td>sunny</td>\n",
       "      <td>hot</td>\n",
       "      <td>high</td>\n",
       "      <td>True</td>\n",
       "      <td>no</td>\n",
       "    </tr>\n",
       "    <tr>\n",
       "      <th>2</th>\n",
       "      <td>overcast</td>\n",
       "      <td>hot</td>\n",
       "      <td>high</td>\n",
       "      <td>False</td>\n",
       "      <td>yes</td>\n",
       "    </tr>\n",
       "    <tr>\n",
       "      <th>3</th>\n",
       "      <td>rainy</td>\n",
       "      <td>mild</td>\n",
       "      <td>high</td>\n",
       "      <td>False</td>\n",
       "      <td>yes</td>\n",
       "    </tr>\n",
       "    <tr>\n",
       "      <th>4</th>\n",
       "      <td>rainy</td>\n",
       "      <td>cool</td>\n",
       "      <td>normal</td>\n",
       "      <td>False</td>\n",
       "      <td>yes</td>\n",
       "    </tr>\n",
       "    <tr>\n",
       "      <th>5</th>\n",
       "      <td>rainy</td>\n",
       "      <td>cool</td>\n",
       "      <td>normal</td>\n",
       "      <td>True</td>\n",
       "      <td>no</td>\n",
       "    </tr>\n",
       "    <tr>\n",
       "      <th>6</th>\n",
       "      <td>overcast</td>\n",
       "      <td>cool</td>\n",
       "      <td>normal</td>\n",
       "      <td>True</td>\n",
       "      <td>yes</td>\n",
       "    </tr>\n",
       "    <tr>\n",
       "      <th>7</th>\n",
       "      <td>sunny</td>\n",
       "      <td>mild</td>\n",
       "      <td>high</td>\n",
       "      <td>False</td>\n",
       "      <td>no</td>\n",
       "    </tr>\n",
       "    <tr>\n",
       "      <th>8</th>\n",
       "      <td>sunny</td>\n",
       "      <td>cool</td>\n",
       "      <td>normal</td>\n",
       "      <td>False</td>\n",
       "      <td>yes</td>\n",
       "    </tr>\n",
       "    <tr>\n",
       "      <th>9</th>\n",
       "      <td>rainy</td>\n",
       "      <td>mild</td>\n",
       "      <td>normal</td>\n",
       "      <td>False</td>\n",
       "      <td>yes</td>\n",
       "    </tr>\n",
       "    <tr>\n",
       "      <th>10</th>\n",
       "      <td>sunny</td>\n",
       "      <td>mild</td>\n",
       "      <td>normal</td>\n",
       "      <td>True</td>\n",
       "      <td>yes</td>\n",
       "    </tr>\n",
       "    <tr>\n",
       "      <th>11</th>\n",
       "      <td>overcast</td>\n",
       "      <td>mild</td>\n",
       "      <td>high</td>\n",
       "      <td>True</td>\n",
       "      <td>yes</td>\n",
       "    </tr>\n",
       "    <tr>\n",
       "      <th>12</th>\n",
       "      <td>overcast</td>\n",
       "      <td>hot</td>\n",
       "      <td>normal</td>\n",
       "      <td>False</td>\n",
       "      <td>yes</td>\n",
       "    </tr>\n",
       "    <tr>\n",
       "      <th>13</th>\n",
       "      <td>rainy</td>\n",
       "      <td>mild</td>\n",
       "      <td>high</td>\n",
       "      <td>True</td>\n",
       "      <td>no</td>\n",
       "    </tr>\n",
       "  </tbody>\n",
       "</table>\n",
       "</div>"
      ],
      "text/plain": [
       "     outlook  temp humidity  windy PlayTennis\n",
       "0      sunny   hot     high  False         no\n",
       "1      sunny   hot     high   True         no\n",
       "2   overcast   hot     high  False        yes\n",
       "3      rainy  mild     high  False        yes\n",
       "4      rainy  cool   normal  False        yes\n",
       "5      rainy  cool   normal   True         no\n",
       "6   overcast  cool   normal   True        yes\n",
       "7      sunny  mild     high  False         no\n",
       "8      sunny  cool   normal  False        yes\n",
       "9      rainy  mild   normal  False        yes\n",
       "10     sunny  mild   normal   True        yes\n",
       "11  overcast  mild     high   True        yes\n",
       "12  overcast   hot   normal  False        yes\n",
       "13     rainy  mild     high   True         no"
      ]
     },
     "execution_count": 5,
     "metadata": {},
     "output_type": "execute_result"
    }
   ],
   "source": [
    "df_tennis"
   ]
  },
  {
   "cell_type": "code",
   "execution_count": 6,
   "id": "e29c41ba",
   "metadata": {},
   "outputs": [
    {
     "data": {
      "text/plain": [
       "pandas.core.frame.DataFrame"
      ]
     },
     "execution_count": 6,
     "metadata": {},
     "output_type": "execute_result"
    }
   ],
   "source": [
    "type(df_tennis)"
   ]
  },
  {
   "cell_type": "code",
   "execution_count": 7,
   "id": "18cc01ba",
   "metadata": {},
   "outputs": [
    {
     "data": {
      "text/plain": [
       "outlook       object\n",
       "temp          object\n",
       "humidity      object\n",
       "windy           bool\n",
       "PlayTennis    object\n",
       "dtype: object"
      ]
     },
     "execution_count": 7,
     "metadata": {},
     "output_type": "execute_result"
    }
   ],
   "source": [
    "df_tennis.dtypes"
   ]
  },
  {
   "cell_type": "code",
   "execution_count": 8,
   "id": "d596dcd2",
   "metadata": {},
   "outputs": [
    {
     "name": "stdout",
     "output_type": "stream",
     "text": [
      "\n",
      " The Given Training Data Set\n",
      "['outlook', 'temp', 'humidity', 'windy', 'PlayTennis']\n",
      "['sunny', 'hot', 'high', 'FALSE', 'no']\n",
      "['sunny', 'hot', 'high', 'TRUE', 'no']\n",
      "['overcast', 'hot', 'high', 'FALSE', 'yes']\n",
      "['rainy', 'mild', 'high', 'FALSE', 'yes']\n",
      "['rainy', 'cool', 'normal', 'FALSE', 'yes']\n",
      "['rainy', 'cool', 'normal', 'TRUE', 'no']\n",
      "['overcast', 'cool', 'normal', 'TRUE', 'yes']\n",
      "['sunny', 'mild', 'high', 'FALSE', 'no']\n",
      "['sunny', 'cool', 'normal', 'FALSE', 'yes']\n",
      "['rainy', 'mild', 'normal', 'FALSE', 'yes']\n",
      "['sunny', 'mild', 'normal', 'TRUE', 'yes']\n",
      "['overcast', 'mild', 'high', 'TRUE', 'yes']\n",
      "['overcast', 'hot', 'normal', 'FALSE', 'yes']\n",
      "['rainy', 'mild', 'high', 'TRUE', 'no']\n"
     ]
    }
   ],
   "source": [
    "import csv\n",
    "a = []\n",
    "print(\"\\n The Given Training Data Set\")\n",
    "with open('Rounak_Exp3.csv', 'r') as csvFile:\n",
    "    reader = csv.reader(csvFile)\n",
    "    for row in reader:\n",
    "        a.append (row)\n",
    "        print(row)\n",
    "num_attributes = len(a[0])-1"
   ]
  },
  {
   "cell_type": "code",
   "execution_count": 9,
   "id": "711f789f",
   "metadata": {},
   "outputs": [],
   "source": [
    "from collections import Counter\n",
    "def entropy_list(a_list):\n",
    "    cnt = Counter(x for x in a_list)\n",
    "    num_instance = len(a_list)*1.0\n",
    "    probs = [x/num_instance for x in cnt.values()]\n",
    "    return entropy(probs)"
   ]
  },
  {
   "cell_type": "code",
   "execution_count": 10,
   "id": "f4c9f0b0",
   "metadata": {},
   "outputs": [],
   "source": [
    "import math\n",
    "def entropy(probs):\n",
    "    return sum([-prob*math.log(prob,2) for prob in probs])"
   ]
  },
  {
   "cell_type": "code",
   "execution_count": 11,
   "id": "905056c1",
   "metadata": {},
   "outputs": [],
   "source": [
    "def info_gain(df,split,target,trace=0):\n",
    "    df_split = df.groupby(split)\n",
    "    nobs = len(df.index)*1.0\n",
    "    df_agg_ent = df_split.agg({ target:[entropy_list, lambda x: len(x)/nobs] })\n",
    "#     print(df_agg_ent)\n",
    "    df_agg_ent.columns = ['Entropy','PropObserved']\n",
    "    new_entropy = sum( df_agg_ent['Entropy'] * df_agg_ent[\"PropObserved\"])\n",
    "    old_entropy = entropy_list(df[target])\n",
    "    return old_entropy - new_entropy"
   ]
  },
  {
   "cell_type": "code",
   "execution_count": 12,
   "id": "eedfb36f",
   "metadata": {},
   "outputs": [],
   "source": [
    "def id3(df,target,attribute_name,default_class = None):\n",
    "    cnt = Counter(x for x in df[target])\n",
    "    if len(cnt)==1:\n",
    "        return next(iter(cnt))\n",
    "    elif df.empty or (not attribute_name):\n",
    "        return default_class\n",
    "    else:\n",
    "        default_class = max(cnt.keys())\n",
    "        gains = [info_gain(df,attr,target) for attr in attribute_name]\n",
    "        index_max = gains.index(max(gains))\n",
    "        best_attr = attribute_name[index_max]\n",
    "        tree = { best_attr:{ } }\n",
    "        remaining_attr = [x for x in attribute_name if x!=best_attr]\n",
    "        for attr_val, data_subset in df.groupby(best_attr):\n",
    "            subtree = id3(data_subset,target,remaining_attr,default_class)\n",
    "            tree[best_attr][attr_val] = subtree\n",
    "        return tree"
   ]
  },
  {
   "cell_type": "code",
   "execution_count": 13,
   "id": "9f01dcb2",
   "metadata": {},
   "outputs": [],
   "source": [
    "def classify(instance,tree,default = None):\n",
    "    attribute = next(iter(tree))\n",
    "    if instance[attribute] in tree[attribute].keys():\n",
    "        result = tree[attribute][instance[attribute]]\n",
    "        if isinstance(result,dict):\n",
    "            return classify(instance,result)\n",
    "        else:\n",
    "            return result\n",
    "    else:\n",
    "        return default"
   ]
  },
  {
   "cell_type": "code",
   "execution_count": 14,
   "id": "ad2a9879",
   "metadata": {},
   "outputs": [
    {
     "name": "stdout",
     "output_type": "stream",
     "text": [
      "\n",
      "\n",
      "The Resultant Decision Tree is :\n",
      "\n",
      "{'outlook': {'overcast': 'yes', 'rainy': {'windy': {False: 'yes', True: 'no'}}, 'sunny': {'humidity': {'high': 'no', 'normal': 'yes'}}}}\n"
     ]
    }
   ],
   "source": [
    "attribute_names = list(df_tennis.columns)\n",
    "attribute_names.remove('PlayTennis') #Remove the class attribute\n",
    "tree = id3(df_tennis,'PlayTennis',attribute_names)\n",
    "print(\"\\n\\nThe Resultant Decision Tree is :\\n\")\n",
    "print(tree)"
   ]
  },
  {
   "cell_type": "code",
   "execution_count": 15,
   "id": "cad049b2",
   "metadata": {},
   "outputs": [
    {
     "name": "stdout",
     "output_type": "stream",
     "text": [
      "\n",
      "\n",
      "The Resultant Decision train_tree is :\n",
      "\n",
      "{'outlook': {'overcast': 'yes', 'rainy': {'windy': {False: 'yes', True: 'no'}}, 'sunny': {'temp': {'cool': 'yes', 'hot': 'no', 'mild': 'no'}}}}\n",
      "\n",
      "\n",
      " Training the model for a few samples, and again predicting 'Playtennis' for remaining attribute\n",
      "The Accuracy for new trained data is : 0.75\n"
     ]
    },
    {
     "name": "stderr",
     "output_type": "stream",
     "text": [
      "C:\\Users\\ADMIN\\AppData\\Local\\Temp/ipykernel_3396/2245435879.py:6: SettingWithCopyWarning: \n",
      "A value is trying to be set on a copy of a slice from a DataFrame.\n",
      "Try using .loc[row_indexer,col_indexer] = value instead\n",
      "\n",
      "See the caveats in the documentation: https://pandas.pydata.org/pandas-docs/stable/user_guide/indexing.html#returning-a-view-versus-a-copy\n",
      "  test_data['predicted2'] = test_data.apply(classify,axis=1,args=(train_tree,'Yes') )\n"
     ]
    }
   ],
   "source": [
    "training_data = df_tennis.iloc[1:-4] # all but last thousand instances\n",
    "test_data = df_tennis.iloc[-4:] # just the last thousand\n",
    "train_tree = id3(training_data, 'PlayTennis', attribute_names)\n",
    "print(\"\\n\\nThe Resultant Decision train_tree is :\\n\")\n",
    "print(train_tree)\n",
    "test_data['predicted2'] = test_data.apply(classify,axis=1,args=(train_tree,'Yes') )\n",
    "print ('\\n\\n Training the model for a few samples, and again predicting \\'Playtennis\\' for remaining attribute')\n",
    "print('The Accuracy for new trained data is : ' + str( sum(test_data['PlayTennis']==test_data['predicted2'] ) / (1.0*len(test_data.index)) ))"
   ]
  },
  {
   "cell_type": "code",
   "execution_count": null,
   "id": "0a7b86f1",
   "metadata": {},
   "outputs": [],
   "source": []
  }
 ],
 "metadata": {
  "kernelspec": {
   "display_name": "Python 3 (ipykernel)",
   "language": "python",
   "name": "python3"
  },
  "language_info": {
   "codemirror_mode": {
    "name": "ipython",
    "version": 3
   },
   "file_extension": ".py",
   "mimetype": "text/x-python",
   "name": "python",
   "nbconvert_exporter": "python",
   "pygments_lexer": "ipython3",
   "version": "3.9.7"
  }
 },
 "nbformat": 4,
 "nbformat_minor": 5
}
