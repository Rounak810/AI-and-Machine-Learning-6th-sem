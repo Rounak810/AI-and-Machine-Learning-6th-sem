{
 "cells": [
  {
   "cell_type": "code",
   "execution_count": 1,
   "id": "00a5cea6",
   "metadata": {},
   "outputs": [],
   "source": [
    "# Experiment No:2\n",
    "# For a given set of training data examples stored in a .CSV file, implement and demonstrate the Candidate-Elimination algorithmto output a description of the set of all hypotheses consistent with the training examples."
   ]
  },
  {
   "cell_type": "code",
   "execution_count": 2,
   "id": "5cdb3c86",
   "metadata": {},
   "outputs": [],
   "source": [
    "from IPython.core.interactiveshell import InteractiveShell\n",
    "InteractiveShell.ast_node_interactivity = \"all\""
   ]
  },
  {
   "cell_type": "code",
   "execution_count": 3,
   "id": "c4490cf6",
   "metadata": {},
   "outputs": [],
   "source": [
    "from pandas import read_csv"
   ]
  },
  {
   "cell_type": "code",
   "execution_count": 4,
   "id": "3cc3f586",
   "metadata": {},
   "outputs": [],
   "source": [
    "import pandas as pd\n",
    "import numpy as np\n",
    "df  = pd.read_csv(\"Rounak_Exp1_data.csv\" )"
   ]
  },
  {
   "cell_type": "code",
   "execution_count": 5,
   "id": "51b32cce",
   "metadata": {},
   "outputs": [
    {
     "data": {
      "text/html": [
       "<div>\n",
       "<style scoped>\n",
       "    .dataframe tbody tr th:only-of-type {\n",
       "        vertical-align: middle;\n",
       "    }\n",
       "\n",
       "    .dataframe tbody tr th {\n",
       "        vertical-align: top;\n",
       "    }\n",
       "\n",
       "    .dataframe thead th {\n",
       "        text-align: right;\n",
       "    }\n",
       "</style>\n",
       "<table border=\"1\" class=\"dataframe\">\n",
       "  <thead>\n",
       "    <tr style=\"text-align: right;\">\n",
       "      <th></th>\n",
       "      <th>Sky</th>\n",
       "      <th>Air Temp</th>\n",
       "      <th>Humidity</th>\n",
       "      <th>wind</th>\n",
       "      <th>water</th>\n",
       "      <th>forecast</th>\n",
       "      <th>out</th>\n",
       "    </tr>\n",
       "  </thead>\n",
       "  <tbody>\n",
       "    <tr>\n",
       "      <th>0</th>\n",
       "      <td>sunny</td>\n",
       "      <td>warm</td>\n",
       "      <td>normal</td>\n",
       "      <td>strong</td>\n",
       "      <td>warm</td>\n",
       "      <td>same</td>\n",
       "      <td>Yes</td>\n",
       "    </tr>\n",
       "    <tr>\n",
       "      <th>1</th>\n",
       "      <td>sunny</td>\n",
       "      <td>warm</td>\n",
       "      <td>high</td>\n",
       "      <td>strong</td>\n",
       "      <td>warm</td>\n",
       "      <td>same</td>\n",
       "      <td>Yes</td>\n",
       "    </tr>\n",
       "    <tr>\n",
       "      <th>2</th>\n",
       "      <td>rainy</td>\n",
       "      <td>cold</td>\n",
       "      <td>high</td>\n",
       "      <td>strong</td>\n",
       "      <td>warm</td>\n",
       "      <td>change</td>\n",
       "      <td>No</td>\n",
       "    </tr>\n",
       "    <tr>\n",
       "      <th>3</th>\n",
       "      <td>sunny</td>\n",
       "      <td>warm</td>\n",
       "      <td>high</td>\n",
       "      <td>strong</td>\n",
       "      <td>cool</td>\n",
       "      <td>change</td>\n",
       "      <td>Yes</td>\n",
       "    </tr>\n",
       "  </tbody>\n",
       "</table>\n",
       "</div>"
      ],
      "text/plain": [
       "     Sky Air Temp Humidity    wind water forecast  out\n",
       "0  sunny     warm   normal  strong  warm     same  Yes\n",
       "1  sunny     warm     high  strong  warm     same  Yes\n",
       "2  rainy     cold     high  strong  warm   change   No\n",
       "3  sunny     warm     high  strong  cool   change  Yes"
      ]
     },
     "execution_count": 5,
     "metadata": {},
     "output_type": "execute_result"
    }
   ],
   "source": [
    "df"
   ]
  },
  {
   "cell_type": "code",
   "execution_count": 6,
   "id": "44fe8374",
   "metadata": {},
   "outputs": [
    {
     "data": {
      "text/plain": [
       "pandas.core.frame.DataFrame"
      ]
     },
     "execution_count": 6,
     "metadata": {},
     "output_type": "execute_result"
    }
   ],
   "source": [
    "type(df)"
   ]
  },
  {
   "cell_type": "code",
   "execution_count": 7,
   "id": "9bbb8463",
   "metadata": {},
   "outputs": [
    {
     "data": {
      "text/plain": [
       "Sky         object\n",
       "Air Temp    object\n",
       "Humidity    object\n",
       "wind        object\n",
       "water       object\n",
       "forecast    object\n",
       "out         object\n",
       "dtype: object"
      ]
     },
     "execution_count": 7,
     "metadata": {},
     "output_type": "execute_result"
    }
   ],
   "source": [
    "df.dtypes"
   ]
  },
  {
   "cell_type": "code",
   "execution_count": 8,
   "id": "ed03770d",
   "metadata": {},
   "outputs": [
    {
     "name": "stdout",
     "output_type": "stream",
     "text": [
      "\n",
      " The Given Training Data Set\n",
      "['Sky', 'Air Temp', 'Humidity', 'wind', 'water', 'forecast', 'out']\n",
      "['sunny', 'warm', 'normal', 'strong', 'warm', 'same', 'Yes']\n",
      "['sunny', 'warm', 'high', 'strong', 'warm', 'same', 'Yes']\n",
      "['rainy', 'cold', 'high', 'strong', 'warm', 'change', 'No']\n",
      "['sunny', 'warm', 'high', 'strong', 'cool', 'change', 'Yes']\n"
     ]
    }
   ],
   "source": [
    "import csv\n",
    "a = []\n",
    "print(\"\\n The Given Training Data Set\")\n",
    "with open('Rounak_Exp1_data.csv', 'r') as csvFile:\n",
    "    reader = csv.reader(csvFile)\n",
    "    for row in reader:\n",
    "        a.append (row)\n",
    "        print(row)\n",
    "num_attributes = len(a[0])-1"
   ]
  },
  {
   "cell_type": "code",
   "execution_count": 9,
   "id": "7ea1c636",
   "metadata": {},
   "outputs": [
    {
     "name": "stdout",
     "output_type": "stream",
     "text": [
      "\n",
      " The initial value of hypothesis: \n",
      "\n",
      " The most specific hypothesis S0 : [0,0,0,0,0,0]\n",
      " \n",
      " The most general hypothesis G0 : [?,?,?,?,?,?]\n"
     ]
    }
   ],
   "source": [
    "print(\"\\n The initial value of hypothesis: \")\n",
    "S = ['0'] * num_attributes\n",
    "G = ['?'] * num_attributes\n",
    "print (\"\\n The most specific hypothesis S0 : [0,0,0,0,0,0]\")\n",
    "print (\" \\n The most general hypothesis G0 : [?,?,?,?,?,?]\")"
   ]
  },
  {
   "cell_type": "code",
   "execution_count": 10,
   "id": "076e4f48",
   "metadata": {},
   "outputs": [],
   "source": [
    "for j in range(0,num_attributes):\n",
    "    S[j]=a[1][j];"
   ]
  },
  {
   "cell_type": "code",
   "execution_count": 11,
   "id": "a8db934a",
   "metadata": {},
   "outputs": [
    {
     "data": {
      "text/plain": [
       "['sunny', 'warm', 'normal', 'strong', 'warm', 'same']"
      ]
     },
     "execution_count": 11,
     "metadata": {},
     "output_type": "execute_result"
    }
   ],
   "source": [
    "S"
   ]
  },
  {
   "cell_type": "code",
   "execution_count": 12,
   "id": "3d388c5d",
   "metadata": {},
   "outputs": [
    {
     "name": "stdout",
     "output_type": "stream",
     "text": [
      "\n",
      " Candidate Elimination algorithm Hypotheses Version Space Computation\n",
      "\n",
      "----------------------------------------------------------------------------- \n",
      " For Training Example No :2 the hypothesis is S2  ['sunny', 'warm', 'normal', 'strong', 'warm', 'same']\n",
      " For Training Example No :2 the hypothesis is G2  ['?', '?', '?', '?', '?', '?']\n",
      "----------------------------------------------------------------------------- \n",
      " For Training Example No :3 the hypothesis is S3  ['sunny', 'warm', '?', 'strong', 'warm', 'same']\n",
      " For Training Example No :3 the hypothesis is G3  ['?', '?', '?', '?', '?', '?']\n",
      "----------------------------------------------------------------------------- \n",
      " For Training Example No :4 the hypothesis is S4  ['sunny', 'warm', '?', 'strong', 'warm', 'same']\n",
      " For Training Example No :4 the hypothesis is G4 [['sunny', '?', '?', '?', '?', '?'], ['?', 'warm', '?', '?', '?', '?'], ['?', '?', '?', '?', '?', 'same']]\n",
      "----------------------------------------------------------------------------- \n",
      " For Training Example No :5 the hypothesis is S5  ['sunny', 'warm', '?', 'strong', '?', '?']\n",
      " For  Positive Training Example No :5 the hypothesis is G5 [['sunny', '?', '?', '?', '?', '?'], ['?', 'warm', '?', '?', '?', '?']]\n"
     ]
    }
   ],
   "source": [
    "print(\"\\n Candidate Elimination algorithm Hypotheses Version Space Computation\\n\")\n",
    "temp=[]\n",
    "for i in range(0,len(a)):\n",
    "    if a[i][num_attributes]=='Yes':\n",
    "        for j in range(0,num_attributes):\n",
    "            if a[i][j]!=S[j]:\n",
    "                S[j]='?'\n",
    "        for j in range(0,num_attributes):\n",
    "            for k in range(1,len(temp)):\n",
    "                if temp[k][j]!='?' and temp[k][j]!=S[j]:\n",
    "                    del temp[k]\n",
    "        print(\"----------------------------------------------------------------------------- \")\n",
    "        print(\" For Training Example No :{0} the hypothesis is S{0} \".format(i+1),S)\n",
    "        if (len(temp)==0):\n",
    "            print(\" For Training Example No :{0} the hypothesis is G{0} \".format(i+1),G)\n",
    "        else:\n",
    "            print(\" For  Positive Training Example No :{0} the hypothesis is G{0}\".format(i+1),temp)\n",
    "    if a[i][num_attributes]=='No':\n",
    "        for j in range(0,num_attributes):\n",
    "            if S[j] != a[i][j] and S[j]!= '?':\n",
    "                G[j]=S[j]\n",
    "                temp.append(G)\n",
    "                G = ['?'] * num_attributes\n",
    "        print(\"----------------------------------------------------------------------------- \")\n",
    "        print(\" For Training Example No :{0} the hypothesis is S{0} \".format(i+1),S)\n",
    "        print(\" For Training Example No :{0} the hypothesis is G{0}\".format(i+1),temp)"
   ]
  }
 ],
 "metadata": {
  "kernelspec": {
   "display_name": "Python 3 (ipykernel)",
   "language": "python",
   "name": "python3"
  },
  "language_info": {
   "codemirror_mode": {
    "name": "ipython",
    "version": 3
   },
   "file_extension": ".py",
   "mimetype": "text/x-python",
   "name": "python",
   "nbconvert_exporter": "python",
   "pygments_lexer": "ipython3",
   "version": "3.9.7"
  }
 },
 "nbformat": 4,
 "nbformat_minor": 5
}
